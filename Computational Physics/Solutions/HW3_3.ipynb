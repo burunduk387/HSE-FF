{
 "cells": [
  {
   "cell_type": "code",
   "execution_count": 13,
   "metadata": {},
   "outputs": [
    {
     "name": "stdout",
     "output_type": "stream",
     "text": [
      "5\n"
     ]
    },
    {
     "data": {
      "text/plain": [
       "<matplotlib.image.AxesImage at 0x7f9a28a75eb0>"
      ]
     },
     "execution_count": 13,
     "metadata": {},
     "output_type": "execute_result"
    },
    {
     "data": {
      "image/png": "[encoded data removed]",
      "text/plain": [
       "<Figure size 432x288 with 1 Axes>"
      ]
     },
     "metadata": {
      "needs_background": "light"
     },
     "output_type": "display_data"
    }
   ],
   "source": [
    "import numpy as np\n",
    "import matplotlib.pyplot as plt\n",
    "\n",
    "a[2:-2,1]=1; a[2,2:6]=1 \n",
    "a[2:7,6]=1; a[7:-2,7]=1 \n",
    "a[7,2:7]=1; a[-3,2:7]=1 \n",
    "a[2:-2,10]=1; a[2:-2,14]=1 \n",
    "a[2:-2,18]=1; a[-3,10:19]=1\n",
    "a[2:-2, -2]=1; a[12,21:-2]=1\n",
    "a[7,21:-2]=1; a[2,21:-2]=1\n",
    "u, s, vh = np.linalg.svd(a)\n",
    "#print(u, \"\\n\"*2, s, \"\\n\"*2, vh)\n",
    "print(np.linalg.matrix_rank(a))\n",
    "plt.imshow(a)"
   ]
  },
  {
   "cell_type": "code",
   "execution_count": null,
   "metadata": {},
   "outputs": [],
   "source": []
  }
 ],
 "metadata": {
  "kernelspec": {
   "display_name": "Python 3",
   "language": "python",
   "name": "python3"
  },
  "language_info": {
   "codemirror_mode": {
    "name": "ipython",
    "version": 3
   },
   "file_extension": ".py",
   "mimetype": "text/x-python",
   "name": "python",
   "nbconvert_exporter": "python",
   "pygments_lexer": "ipython3",
   "version": "3.8.3"
  }
 },
 "nbformat": 4,
 "nbformat_minor": 4
}
