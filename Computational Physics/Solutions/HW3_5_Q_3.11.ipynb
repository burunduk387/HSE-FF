{
 "cells": [
  {
   "cell_type": "markdown",
   "metadata": {},
   "source": [
    "$x_i = f_i * t^2 / 2 + v_{i-1} * t + x_{i-1}$ <br>\n",
    "Расписав иксы, можно заметить закономерность коэффициентов перед $f_i$.\n",
    "Скорость, очевидно, растет линейно."
   ]
  },
  {
   "cell_type": "code",
   "execution_count": 1,
   "metadata": {},
   "outputs": [
    {
     "name": "stdout",
     "output_type": "stream",
     "text": [
      "[[9.5 8.5 7.5 6.5 5.5 4.5 3.5 2.5 1.5 0.5]\n",
      " [1.  1.  1.  1.  1.  1.  1.  1.  1.  1. ]]\n"
     ]
    }
   ],
   "source": [
    "import numpy as np\n",
    "import matplotlib.pyplot as plt\n",
    "\n",
    "A = np.ones((2, 10))\n",
    "for i in range(10):\n",
    "    A[0,i] = (2 * (9 - i) + 1)/2\n",
    "print(A)"
   ]
  },
  {
   "cell_type": "code",
   "execution_count": 2,
   "metadata": {},
   "outputs": [
    {
     "name": "stdout",
     "output_type": "stream",
     "text": [
      "[ 0.05454545  0.04242424  0.03030303  0.01818182  0.00606061 -0.00606061\n",
      " -0.01818182 -0.03030303 -0.04242424 -0.05454545]\n"
     ]
    }
   ],
   "source": [
    "u, s, vh = np.linalg.svd(A) #SVD here\n",
    "sigma = np.zeros((2, 10))\n",
    "sigma[0,0] = s[0]\n",
    "sigma[1,1] = s[1]\n",
    "vtc = vh.T.conj()\n",
    "utc = u.T.conj()\n",
    "a = [1, 0]\n",
    "f = vtc @ np.linalg.pinv(sigma) @ utc @ a #Making A^(-1) using SVD\n",
    "print(f) #Force"
   ]
  },
  {
   "cell_type": "code",
   "execution_count": 3,
   "metadata": {},
   "outputs": [
    {
     "data": {
      "image/png": "[encoded data removed]",
      "text/plain": [
       "<Figure size 432x288 with 1 Axes>"
      ]
     },
     "metadata": {
      "needs_background": "light"
     },
     "output_type": "display_data"
    }
   ],
   "source": [
    "#x_i = f_i * t^2 / 2 + v_{i-1} * t + x_{i-1}\n",
    "n = 1000\n",
    "x = np.zeros(n)\n",
    "v = np.zeros(n)\n",
    "\n",
    "t = np.linspace(0, 10, n, endpoint=False)\n",
    "for i in range(1, n):\n",
    "    v[i] = f[int(np.floor(t[i]))]*(t[i]-t[i - 1]) + v[i - 1]\n",
    "    x[i] = f[int(np.floor(t[i]))]*(t[i]-t[i - 1])**2 / 2 + v[i - 1]*(t[i]-t[i - 1]) + x[i - 1]\n",
    "plt.plot(t, x)\n",
    "plt.show()"
   ]
  }
 ],
 "metadata": {
  "kernelspec": {
   "display_name": "Python 3",
   "language": "python",
   "name": "python3"
  },
  "language_info": {
   "codemirror_mode": {
    "name": "ipython",
    "version": 3
   },
   "file_extension": ".py",
   "mimetype": "text/x-python",
   "name": "python",
   "nbconvert_exporter": "python",
   "pygments_lexer": "ipython3",
   "version": "3.8.3"
  }
 },
 "nbformat": 4,
 "nbformat_minor": 4
}
