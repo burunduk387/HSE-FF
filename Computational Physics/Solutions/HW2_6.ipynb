{
 "cells": [
  {
   "cell_type": "code",
   "execution_count": 16,
   "metadata": {},
   "outputs": [
    {
     "name": "stdout",
     "output_type": "stream",
     "text": [
      "3.6850807149999127\n",
      "2.2038434839996626\n",
      "1.577760450000369\n"
     ]
    }
   ],
   "source": [
    "import numpy as np\n",
    "from timeit import default_timer as timer\n",
    "\n",
    "def woodbury(A, U, V, C):\n",
    "    Ai = np.linalg.inv(A)\n",
    "    Wi = np.linalg.pinv(np.linalg.inv(C) + V @ Ai @ U)\n",
    "    return Ai - Ai @ U @ Wi @ V @ Ai\n",
    "\n",
    "def woodbury_A_preinv(Ai, U, V, C):\n",
    "    Wi = np.linalg.pinv(np.linalg.inv(C) + V @ Ai @ U)\n",
    "    return Ai - Ai @ U @ Wi @ V @ Ai\n",
    "\n",
    "p = 5000\n",
    "k = 100\n",
    "A = np.diag(np.random.random(p))\n",
    "V = np.random.random((k, p))\n",
    "U = np.random.random((p, k))\n",
    "C = np.eye(k)\n",
    "s = timer()\n",
    "woodbury(A, U, V, C)\n",
    "e = timer()\n",
    "print(e - s)\n",
    "s = timer()\n",
    "np.linalg.inv(A + U @ C @ V)\n",
    "e = timer()\n",
    "print(e - s)\n",
    "Ai = np.linalg.inv(A)\n",
    "s = timer()\n",
    "woodbury_A_preinv(Ai, U, V, C)\n",
    "e = timer()\n",
    "print(e - s)"
   ]
  },
  {
   "cell_type": "markdown",
   "metadata": {},
   "source": [
    "Если по какой-то причине у нас уже есть обратная к А матрица, то формула действительно работает быстрее. Связано с меньшим размером матрицы С."
   ]
  }
 ],
 "metadata": {
  "kernelspec": {
   "display_name": "Python 3",
   "language": "python",
   "name": "python3"
  },
  "language_info": {
   "codemirror_mode": {
    "name": "ipython",
    "version": 3
   },
   "file_extension": ".py",
   "mimetype": "text/x-python",
   "name": "python",
   "nbconvert_exporter": "python",
   "pygments_lexer": "ipython3",
   "version": "3.8.3"
  }
 },
 "nbformat": 4,
 "nbformat_minor": 4
}
