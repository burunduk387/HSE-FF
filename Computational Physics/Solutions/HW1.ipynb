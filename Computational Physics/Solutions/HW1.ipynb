{
 "cells": [
  {
   "cell_type": "markdown",
   "metadata": {},
   "source": [
    "Задача 1 <br>\n",
    "Разная рекурсия работает для разных значений a <br>\n",
    "Для вывода рекуррентного соотношения см. пдф"
   ]
  },
  {
   "cell_type": "code",
   "execution_count": 11,
   "metadata": {},
   "outputs": [
    {
     "name": "stdout",
     "output_type": "stream",
     "text": [
      "0.03622697090911682\n",
      "916988169.5363449\n",
      "\n",
      "\n",
      "1.8902904607368906e+21\n",
      "0.0035083534096819772\n"
     ]
    }
   ],
   "source": [
    "import numpy as np\n",
    "a = 0.1\n",
    "I0 = - np.log(a) + np.log(1 + a)\n",
    "IN = []\n",
    "IN.append(I0)\n",
    "for i in range (1, 50):\n",
    "    INN = 1 / i - a * IN[i - 1] \n",
    "    IN.append(INN)\n",
    "#for i in range (50):\n",
    "#    print(i, IN[i])\n",
    "print(IN[25])\n",
    "a = 10\n",
    "I0 = - np.log(a) + np.log(1 + a)\n",
    "IN = []\n",
    "IN.append(I0)\n",
    "for i in range (1, 50):\n",
    "    INN = 1 / i - a * IN[i - 1] \n",
    "    IN.append(INN)\n",
    "#for i in range (50):\n",
    "#    print(i, IN[i])\n",
    "print(IN[25])\n",
    "\n",
    "#Part 2\n",
    "\n",
    "print (\"\\n\")\n",
    "a = 0.1\n",
    "IN = np.zeros(50)\n",
    "for i in range (48, 0, -1):\n",
    "    INN = ((1 / i) - IN[i + 1]) / a\n",
    "    IN[i] = INN\n",
    "#for i in range (49, 0, -1):\n",
    "#    print(i - 1, IN[i])\n",
    "print (IN[26])\n",
    "a = 10\n",
    "IN = np.zeros(50)\n",
    "for i in range (48, 0, -1):\n",
    "    INN = ((1 / i) - IN[i + 1]) / a\n",
    "    IN[i] = INN\n",
    "#for i in range (49, 0, -1):\n",
    "#    print(i - 1, IN[i])\n",
    "print(IN[26])"
   ]
  },
  {
   "cell_type": "markdown",
   "metadata": {},
   "source": [
    "Задача 2 <br>\n",
    "Спойлеры: <br>\n",
    "Складывать всегда приятнее, чем вычитать. Одно дело посчитать 10^10 - sqrt(10^20 - 9) и получить 0, а другое дело 10^10 + sqrt(10^20 - 9) и получить 2 * 10^10. <br>\n",
    "Как получено? Домножить всё на - b - sqrt(b^2 - 4 * a * c) "
   ]
  },
  {
   "cell_type": "code",
   "execution_count": 12,
   "metadata": {},
   "outputs": [
    {
     "name": "stdout",
     "output_type": "stream",
     "text": [
      "4.0 3.0\n",
      "(-1+0j) (-3+0j)\n",
      "True\n",
      "2.0 1.0\n",
      "(-1+0j) (-1+0j)\n",
      "True\n",
      "0.5 4.0\n",
      "(-0.25+1.984313483298443j) (-0.25-1.984313483298443j)\n",
      "True\n",
      "10000000000.0 3.0\n",
      "0j (-10000000000+0j)\n",
      "False\n",
      "-10000000000.0 4.0\n",
      "(10000000000+0j) 0j\n",
      "False\n"
     ]
    }
   ],
   "source": [
    "#наивная версия\n",
    "import cmath\n",
    "from numpy import allclose\n",
    "def solve_quad(b, c):\n",
    "    print (b, c)\n",
    "    d = b ** 2 - 4 * c\n",
    "    x1 = (-b + cmath.sqrt(d)) / 2\n",
    "    x2 = (-b - cmath.sqrt(d)) / 2\n",
    "    return(x1, x2)\n",
    "variants = [{'b': 4.0, 'c': 3.0},\n",
    "            {'b': 2.0, 'c': 1.0},\n",
    "            {'b': 0.5, 'c': 4.0},\n",
    "            {'b': 1e10, 'c': 3.0},\n",
    "            {'b': -1e10, 'c': 4.0},]\n",
    "for var in variants:\n",
    "    x1, x2 = solve_quad(**var)\n",
    "    print(x1, x2)\n",
    "    print(allclose(x1*x2, var['c']))"
   ]
  },
  {
   "cell_type": "code",
   "execution_count": 13,
   "metadata": {},
   "outputs": [
    {
     "name": "stdout",
     "output_type": "stream",
     "text": [
      "-3.0 -1.0\n",
      "True\n",
      "-1.0 -1.0\n",
      "True\n",
      "(-0.25+1.984313483298443j) (-0.25-1.984313483298443j)\n",
      "True\n",
      "-10000000000.0 -3e-10\n",
      "True\n",
      "10000000000.0 4e-10\n",
      "True\n"
     ]
    }
   ],
   "source": [
    "#ленивая версия\n",
    "import numpy as np\n",
    "from numpy import allclose\n",
    "def solve_quad(b, c):\n",
    "    a = 1\n",
    "    coeff = []\n",
    "    coeff.append(a)\n",
    "    coeff.append(b)\n",
    "    coeff.append(c)\n",
    "    k = np.roots(coeff)\n",
    "    return(k[0], k[1])\n",
    "variants = [{'b': 4.0, 'c': 3.0},\n",
    "            {'b': 2.0, 'c': 1.0},\n",
    "            {'b': 0.5, 'c': 4.0},\n",
    "            {'b': 1e10, 'c': 3.0},\n",
    "            {'b': -1e10, 'c': 4.0},]\n",
    "for var in variants:\n",
    "    x1, x2 = solve_quad(**var)\n",
    "    print(x1, x2)\n",
    "    print(allclose(x1*x2, var['c']))"
   ]
  },
  {
   "cell_type": "code",
   "execution_count": 14,
   "metadata": {},
   "outputs": [
    {
     "name": "stdout",
     "output_type": "stream",
     "text": [
      "(-1-0j) (-3+0j)\n",
      "True\n",
      "(-1-0j) (-1+0j)\n",
      "True\n",
      "(-0.24999999999999994+1.9843134832984428j) (-0.25-1.984313483298443j)\n",
      "True\n",
      "(-3e-10-0j) (-10000000000+0j)\n",
      "True\n",
      "(4e-10+0j) (10000000000+0j)\n",
      "True\n"
     ]
    }
   ],
   "source": [
    "#спортивная версия\n",
    "import cmath\n",
    "from numpy import allclose\n",
    "def solve_quad(b, c):\n",
    "    discriminant_root = cmath.sqrt(b ** 2 - 4 * c)\n",
    "    if b > 0:\n",
    "        x1 = (2 * c) / (- b - discriminant_root)\n",
    "        x2 = (- b - discriminant_root) / 2\n",
    "    else:\n",
    "        x1 = (2 * c) / (- b + discriminant_root)\n",
    "        x2 = (- b + discriminant_root) / 2\n",
    "    return(x1, x2)\n",
    "\n",
    "variants = [{'b': 4.0, 'c': 3.0},\n",
    "            {'b': 2.0, 'c': 1.0},\n",
    "            {'b': 0.5, 'c': 4.0},\n",
    "            {'b': 1e10, 'c': 3.0},\n",
    "            {'b': -1e10, 'c': 4.0},]\n",
    "for var in variants:\n",
    "    x1, x2 = solve_quad(**var)\n",
    "    print(x1, x2)\n",
    "    print(allclose(x1*x2, var['c']))"
   ]
  },
  {
   "cell_type": "markdown",
   "metadata": {},
   "source": [
    "Задача 3 <br>\n",
    "Спойлеры: повызывать от 0 до 5, анзац и закономерность очевидна <br>\n",
    "recur(n) as R(n) <br>\n",
    "R(n) = -R(n-1) + 6 * R(n-2) <br>\n",
    "-(-3)^(n - 1) + 6 * (-3)^(n - 2) = (-3)^(n - 2) * (6 + 3) = (-3)^n <br>\n",
    "9 is (-3)^2"
   ]
  },
  {
   "cell_type": "code",
   "execution_count": 15,
   "metadata": {},
   "outputs": [
    {
     "name": "stdout",
     "output_type": "stream",
     "text": [
      "1\n",
      "-3\n",
      "9\n",
      "-27\n",
      "81\n"
     ]
    }
   ],
   "source": [
    "def recur(n):\n",
    "    if n == 0:\n",
    "        return 1\n",
    "    if n == 1:\n",
    "        return -3\n",
    "    return -recur(n - 1) + 6 * recur(n - 2)\n",
    "for i in range(5):\n",
    "    print(recur(i))"
   ]
  },
  {
   "cell_type": "code",
   "execution_count": 16,
   "metadata": {},
   "outputs": [
    {
     "name": "stdout",
     "output_type": "stream",
     "text": [
      "1\n",
      "-3\n",
      "9\n",
      "-27\n",
      "81\n",
      "6094450215462886010919940416159254127780495398343273822400801771940404638186197296791197565226726678937781620863297441239558499217634492330093866862512960199927792151337515405513496336097533368085315608842562937022842989249443889665488026163845297981733782426710440981541671342546819992931476270732407611257266864638291596946069546644928918529283838841114942775639171108733116510342689217842786426858890817486023525224913449449057091610680380444303515347686193560754457357577358311984589944305711672104447846457597497325597148746621694319977411609918054783537457754061394740543917588964751296073494373298939193652780227334988145003968276730589305786515481671932576229601073273732457845542705245754068836962651469188153170543381185267277860444863733610333666092998068734804981847751641065840161957814809001437004653380692726928539871118976964306949627015659054111021337754025550333370294349731458099300434065118554291718263099376809887558860852157968857126733224401\n"
     ]
    }
   ],
   "source": [
    "def recur_but_better(n):\n",
    "    return ((-1) ** n) * (3 ** n)\n",
    "for i in range(5):\n",
    "    print(recur_but_better(i))\n",
    "print(recur_but_better(2020))"
   ]
  },
  {
   "cell_type": "markdown",
   "metadata": {},
   "source": [
    "Задача 4 <br>\n",
    "См. пдф, это, скорее всего, неправильно и не то, что требовалось <br>\n",
    "10 -> 0.5 <br>\n",
    "0.1 -> 5 "
   ]
  },
  {
   "cell_type": "code",
   "execution_count": 17,
   "metadata": {},
   "outputs": [
    {
     "name": "stdout",
     "output_type": "stream",
     "text": [
      "3.5399644065066096 0.4975309105311169\n"
     ]
    },
    {
     "data": {
      "image/png": "[encoded data removed]",
      "text/plain": [
       "<Figure size 1332x756 with 1 Axes>"
      ]
     },
     "metadata": {
      "needs_background": "light"
     },
     "output_type": "display_data"
    }
   ],
   "source": [
    "import math as cm\n",
    "import matplotlib.pyplot as plt\n",
    "import numpy as np\n",
    "def get_higher_value(c):\n",
    "    return ((2 + cm.sqrt(4 + 40* c )) / 2)\n",
    "deltas=[]\n",
    "values=[]\n",
    "diff_v=[]\n",
    "diff_d=[]\n",
    "d=[]\n",
    "deltas.append(0)\n",
    "values.append(1)\n",
    "for  i in range (1, 100000):\n",
    "    values.append(get_higher_value(i/1000))\n",
    "    deltas.append(i/1000)\n",
    "    diff_v.append(values[i]-values[i-1])\n",
    "    diff_d.append(deltas[i]-deltas[i-1])\n",
    "    if i != 1:\n",
    "        d.append(diff_v[i-1]/diff_d[i-1])\n",
    "x = np.linspace(0.001, 100, 99998)\n",
    "plt.plot(x, d)\n",
    "plt.grid()\n",
    "fig = plt.gcf()\n",
    "fig.set_size_inches(18.5, 10.5)\n",
    "print(d[98], d[9998])"
   ]
  },
  {
   "cell_type": "markdown",
   "metadata": {},
   "source": [
    "Задача 5 <br>\n",
    "Первые члены ряда достаточно большие, в то время как последние малы, что приводит к слабому изменению res. <br>\n",
    "Тем не менее, ошибка округления никуда не делась, из-за этого суммарная ошибка возрастает. <br>\n",
    "Если суммировать сверху-вниз, то ошибки округления будут колебаться около очень малых значений и не дадут заметного вклада (можно посмотреть на Decimal)."
   ]
  },
  {
   "cell_type": "code",
   "execution_count": 18,
   "metadata": {},
   "outputs": [
    {
     "name": "stdout",
     "output_type": "stream",
     "text": [
      "1.988 \n",
      "\n",
      "1.624\n",
      "1.645\n"
     ]
    }
   ],
   "source": [
    "import math\n",
    "from decimal import *\n",
    "def round_to_n(x, n): \n",
    "    if x == 0:\n",
    "        return x\n",
    "    else:\n",
    "        return round(x, -int(math.floor(math.log10(abs(x)))) + (n - 1))\n",
    "\n",
    "print(round_to_n(1.987654321, 4), \"\\n\") #Убеждаюсь, что она действительно округляет как надо\n",
    "res = 0\n",
    "for k in range(1, 3001):\n",
    "   # print (Decimal(res), Decimal(1/k**2))\n",
    "    res = round_to_n(res+1/k**2, 4)\n",
    "print(round_to_n(res, 4)) \n",
    "res = 0\n",
    "for k in range(3000, 0, -1):\n",
    "   # print (Decimal(res), Decimal(1/k**2))\n",
    "    res = round_to_n(res+1/k**2, 4)\n",
    "print(round_to_n(res, 4)) "
   ]
  }
 ],
 "metadata": {
  "kernelspec": {
   "display_name": "Python 3",
   "language": "python",
   "name": "python3"
  },
  "language_info": {
   "codemirror_mode": {
    "name": "ipython",
    "version": 3
   },
   "file_extension": ".py",
   "mimetype": "text/x-python",
   "name": "python",
   "nbconvert_exporter": "python",
   "pygments_lexer": "ipython3",
   "version": "3.8.3"
  }
 },
 "nbformat": 4,
 "nbformat_minor": 4
}
