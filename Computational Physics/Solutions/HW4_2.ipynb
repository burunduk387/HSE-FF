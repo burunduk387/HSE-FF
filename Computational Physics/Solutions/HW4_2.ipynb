{
 "cells": [
  {
   "cell_type": "code",
   "execution_count": 30,
   "metadata": {},
   "outputs": [
    {
     "name": "stdout",
     "output_type": "stream",
     "text": [
      "2.4561\n"
     ]
    }
   ],
   "source": [
    "import numpy as np\n",
    "num = []\n",
    "n = 10\n",
    "for i in range(30000):\n",
    "    a = np.random.normal(0, 1, (n, n))\n",
    "    A = a @ a.T\n",
    "    mini = np.min(np.linalg.eigvalsh(A))\n",
    "    A1 = A\n",
    "    nu = 0\n",
    "    while (abs(np.min(np.diag(A1))/mini - 1) > 0.01):\n",
    "        nu += 1\n",
    "        Q, R = np.linalg.qr(A1)\n",
    "        A1 = R @ Q\n",
    "    num.append(nu)\n",
    "print(np.mean(num))"
   ]
  },
  {
   "cell_type": "markdown",
   "metadata": {},
   "source": [
    "Можно проверить (я так и сделал), что число итераций не зависит от n, однако, в силу использования функции random, количество итераций меняется, поэтому решено взять среднее для оценки. По итогу получается около 2.5 итераций, чтобы достаточно точно оценитьсобственные значения<br>"
   ]
  }
 ],
 "metadata": {
  "kernelspec": {
   "display_name": "Python 3",
   "language": "python",
   "name": "python3"
  },
  "language_info": {
   "codemirror_mode": {
    "name": "ipython",
    "version": 3
   },
   "file_extension": ".py",
   "mimetype": "text/x-python",
   "name": "python",
   "nbconvert_exporter": "python",
   "pygments_lexer": "ipython3",
   "version": "3.8.3"
  }
 },
 "nbformat": 4,
 "nbformat_minor": 4
}
