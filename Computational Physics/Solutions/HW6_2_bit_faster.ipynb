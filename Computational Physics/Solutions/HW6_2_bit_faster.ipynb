{
 "cells": [
  {
   "cell_type": "markdown",
   "metadata": {},
   "source": [
    "При наличии второй производной можно справиться за меньшее число итераций"
   ]
  },
  {
   "cell_type": "code",
   "execution_count": 1,
   "metadata": {},
   "outputs": [],
   "source": [
    "import numpy as np\n",
    "import matplotlib.pyplot as plt"
   ]
  },
  {
   "cell_type": "code",
   "execution_count": 2,
   "metadata": {},
   "outputs": [],
   "source": [
    "def fder2(x):\n",
    "    return -np.cos(x)"
   ]
  },
  {
   "cell_type": "code",
   "execution_count": 3,
   "metadata": {},
   "outputs": [],
   "source": [
    "def fder(x):\n",
    "    return -np.sin(x)"
   ]
  },
  {
   "cell_type": "code",
   "execution_count": 4,
   "metadata": {},
   "outputs": [],
   "source": [
    "def f(x):\n",
    "    return np.cos(x)+1"
   ]
  },
  {
   "cell_type": "code",
   "execution_count": 5,
   "metadata": {},
   "outputs": [],
   "source": [
    "def newton_iteration_convergence(f, fder, x0, eps=1e-5, maxiter=1000): \n",
    "    \"\"\"Newton's root finding method for f(x)=0\n",
    "    Parameters\n",
    "    ----------\n",
    "    f : callable Function f.\n",
    "    fder : callable Derivative of f.\n",
    "    x0 : float\n",
    "    Initial point for iterations.\n",
    "    eps : float\n",
    "    Requested accuracy.\n",
    "    maxiter : int\n",
    "    Maximal number of iterations.\n",
    "    Returns -------\n",
    "    x : float\n",
    "    Approximate root.\n",
    "    niter : int\n",
    "    Number of iterations. \"\"\"\n",
    "    z = []\n",
    "    z.append(x0)\n",
    "    z.append(z[0] - f(z[0]) / fder(z[0]))\n",
    "    i = 2\n",
    "    while i < maxiter and np.abs(z[i - 1] - z[i - 2]) > eps:\n",
    "        z.append(z[i - 1] - f(z[i - 1]) / fder(z[i - 1]))\n",
    "        i += 1\n",
    "    return z"
   ]
  },
  {
   "cell_type": "code",
   "execution_count": 6,
   "metadata": {},
   "outputs": [],
   "source": [
    "def newton_iteration_a_bit_better(f, fder, fder2, x0, eps=1e-5, maxiter=1000): \n",
    "    z = []\n",
    "    z.append(x0)\n",
    "    z.append(z[0] - 2 * f(z[0]) * fder(z[0]) / (2 * (fder(z[0]))**2 - f(z[0]) * fder2(z[0])))\n",
    "    i = 2\n",
    "    while i < maxiter and np.abs(z[i - 1] - z[i - 2]) > eps:\n",
    "        z.append(z[i - 1] - 2 * f(z[i - 1]) * fder(z[i - 1]) / (2 * (fder(z[i - 1]))**2 - f(z[i - 1]) * fder2(z[i - 1])))\n",
    "        i += 1\n",
    "    return z"
   ]
  },
  {
   "cell_type": "code",
   "execution_count": 7,
   "metadata": {},
   "outputs": [
    {
     "name": "stdout",
     "output_type": "stream",
     "text": [
      "Iterations: 13\n"
     ]
    },
    {
     "data": {
      "image/png": "[encoded data removed]",
      "text/plain": [
       "<Figure size 432x288 with 1 Axes>"
      ]
     },
     "metadata": {
      "needs_background": "light"
     },
     "output_type": "display_data"
    },
    {
     "name": "stdout",
     "output_type": "stream",
     "text": [
      "Iterations: 16\n"
     ]
    },
    {
     "data": {
      "image/png": "[encoded data removed]",
      "text/plain": [
       "<Figure size 432x288 with 1 Axes>"
      ]
     },
     "metadata": {
      "needs_background": "light"
     },
     "output_type": "display_data"
    }
   ],
   "source": [
    "x = newton_iteration_a_bit_better(f, fder, fder2, 1)\n",
    "erf = [(x[i]-np.pi)**2 for i in range(len(x))]\n",
    "print(\"Iterations:\", len(x) - 1)\n",
    "plt.yscale('log')\n",
    "plt.plot(erf) \n",
    "plt.grid() \n",
    "plt.show()\n",
    "\n",
    "x = newton_iteration_convergence(f, fder, 1)\n",
    "erf = [(x[i]-np.pi)**2 for i in range(len(x))]\n",
    "print(\"Iterations:\", len(x) - 1)\n",
    "plt.yscale('log')\n",
    "plt.plot(erf) \n",
    "plt.grid() \n",
    "plt.show()"
   ]
  }
 ],
 "metadata": {
  "kernelspec": {
   "display_name": "Python 3",
   "language": "python",
   "name": "python3"
  },
  "language_info": {
   "codemirror_mode": {
    "name": "ipython",
    "version": 3
   },
   "file_extension": ".py",
   "mimetype": "text/x-python",
   "name": "python",
   "nbconvert_exporter": "python",
   "pygments_lexer": "ipython3",
   "version": "3.8.3"
  }
 },
 "nbformat": 4,
 "nbformat_minor": 4
}
