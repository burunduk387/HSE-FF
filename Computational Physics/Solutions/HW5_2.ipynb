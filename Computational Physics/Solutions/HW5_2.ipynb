{
 "cells": [
  {
   "cell_type": "code",
   "execution_count": 1,
   "metadata": {},
   "outputs": [],
   "source": [
    "from scipy import sparse\n",
    "import numpy as np\n",
    "from timeit import default_timer as timer\n",
    "import copy"
   ]
  },
  {
   "cell_type": "code",
   "execution_count": 2,
   "metadata": {},
   "outputs": [],
   "source": [
    "def makeM (l, g, b, a):\n",
    "    #lil is faster for writing\n",
    "    m = sparse.lil_matrix(l)\n",
    "    for i in range(a[0].shape[0]):\n",
    "        m[a[0][i], a[1][i]] = b/g[a[1][i]]\n",
    "    for i in range(l.shape[1]):\n",
    "        if g[i] == 0:\n",
    "            m[:, i] = b/l.shape[1]\n",
    "    return m"
   ]
  },
  {
   "cell_type": "code",
   "execution_count": 3,
   "metadata": {},
   "outputs": [],
   "source": [
    "def makeG(L):\n",
    "    g = np.zeros(L.shape[1])\n",
    "    a = sparse.csr_matrix.nonzero(L)\n",
    "    unique, counts = np.unique(a[1], return_counts=True)\n",
    "    for i in range(unique.shape[0]):\n",
    "        g[unique[i]] = counts[i]\n",
    "    return g"
   ]
  },
  {
   "cell_type": "code",
   "execution_count": 4,
   "metadata": {},
   "outputs": [],
   "source": [
    "def vbuild(w, b, n):\n",
    "    #for whatever reason it changed the original vector, so I used deepcopy\n",
    "    k = copy.deepcopy(w)\n",
    "    k[:] = np.sum(w) * (1 - b) / n\n",
    "    return k"
   ]
  },
  {
   "cell_type": "code",
   "execution_count": 5,
   "metadata": {},
   "outputs": [],
   "source": [
    "def dataset2csr(filename, nodes, edges):\n",
    "    #Changed TRUE to 1., it was easier with float\n",
    "    rows = []; cols = []    \n",
    "    with open(filename, 'r') as f:\n",
    "        for line in f.readlines()[4:]:\n",
    "            o, d = (int(x)-1 for x in line.split())\n",
    "            rows.append(d)\n",
    "            cols.append(o)\n",
    "    return(sparse.csr_matrix(([1.]*edges, (rows, cols)), shape=(nodes, nodes)))"
   ]
  },
  {
   "cell_type": "code",
   "execution_count": 6,
   "metadata": {},
   "outputs": [],
   "source": [
    "#consts for the first file\n",
    "n = 5\n",
    "ed = 8\n",
    "b = 0.8"
   ]
  },
  {
   "cell_type": "code",
   "execution_count": 7,
   "metadata": {},
   "outputs": [
    {
     "name": "stdout",
     "output_type": "stream",
     "text": [
      "  (1, 0)\t1.0\n",
      "  (1, 2)\t1.0\n",
      "  (2, 0)\t1.0\n",
      "  (2, 1)\t1.0\n",
      "  (3, 0)\t1.0\n",
      "  (4, 0)\t1.0\n",
      "  (4, 1)\t1.0\n",
      "  (4, 3)\t1.0\n",
      "[[0. 0. 0. 0. 0.]\n",
      " [1. 0. 1. 0. 0.]\n",
      " [1. 1. 0. 0. 0.]\n",
      " [1. 0. 0. 0. 0.]\n",
      " [1. 1. 0. 1. 0.]]\n"
     ]
    }
   ],
   "source": [
    "l = dataset2csr(filename='/Users/markblumenau/Downloads/miniGOOGLE.txt', nodes = n, edges = ed)\n",
    "#check whether I went crazy or everything is fine, not doing that for bigboi\n",
    "print(l) \n",
    "a = sparse.csr_matrix.nonzero(l)\n",
    "L = np.zeros((n, n))\n",
    "for i in range(n):\n",
    "    for j in range(n):\n",
    "        L[i, j] = l[i, j]\n",
    "print(L)"
   ]
  },
  {
   "cell_type": "code",
   "execution_count": 8,
   "metadata": {},
   "outputs": [
    {
     "name": "stdout",
     "output_type": "stream",
     "text": [
      "[4. 2. 1. 1. 0.]\n",
      "[[0.   0.   0.   0.   0.2 ]\n",
      " [0.25 0.   1.   0.   0.2 ]\n",
      " [0.25 0.5  0.   0.   0.2 ]\n",
      " [0.25 0.   0.   0.   0.2 ]\n",
      " [0.25 0.5  0.   1.   0.2 ]]\n"
     ]
    }
   ],
   "source": [
    "gg = makeG(l)\n",
    "#check again, not doing that for bigboi\n",
    "print(gg)\n",
    "G = np.zeros((n, n))\n",
    "for i in range(n):\n",
    "    for j in range(n):\n",
    "        if gg[i] != 0:\n",
    "            if L[j, i]:\n",
    "                G[j, i] = 1/gg[i]\n",
    "        else:\n",
    "            G[j, i] = 1/n\n",
    "print(G)"
   ]
  },
  {
   "cell_type": "code",
   "execution_count": 9,
   "metadata": {},
   "outputs": [
    {
     "name": "stdout",
     "output_type": "stream",
     "text": [
      "[[0.   0.   0.   0.   0.16]\n",
      " [0.2  0.   0.8  0.   0.16]\n",
      " [0.2  0.4  0.   0.   0.16]\n",
      " [0.2  0.   0.   0.   0.16]\n",
      " [0.2  0.4  0.   0.8  0.16]]\n",
      "18 ITER NUM\n",
      "1 is the eigval for that vector\n",
      "[0.18136346 0.57609822 0.4480631  0.21763486 0.62216771]\n",
      "[0.99998051 0.99997375 1.00001966 0.9999897  1.00001943]\n"
     ]
    }
   ],
   "source": [
    "v = np.random.random(n)\n",
    "v /= np.sqrt(v@v)\n",
    "vp = np.zeros(n)\n",
    "m = makeM(l, gg, b, a)\n",
    "#Another check\n",
    "M = np.zeros((n, n))\n",
    "for i in range(n):\n",
    "    for j in range(n):\n",
    "        M [i, j] = m[i, j]\n",
    "print(M)\n",
    "i = 0\n",
    "while np.linalg.norm(v-vp, 1) > 1.0E-4:\n",
    "    i += 1\n",
    "    vp = v\n",
    "    v = m @ vp  + vbuild(vp, b, l.shape[1])\n",
    "    v /= np.sqrt(v@v)\n",
    "    \n",
    "print(i, \"ITER NUM\")\n",
    "print (\"1 is the eigval for that vector\")\n",
    "print(v)\n",
    "#check again, must be approx. 1\n",
    "print((m @ v + vbuild(v, b, l.shape[1])) / v) "
   ]
  },
  {
   "cell_type": "code",
   "execution_count": 10,
   "metadata": {},
   "outputs": [
    {
     "name": "stdout",
     "output_type": "stream",
     "text": [
      "5 is VIP, Very Important Page\n"
     ]
    }
   ],
   "source": [
    "print(v.argmax()+1, \"is VIP, Very Important Page\")"
   ]
  },
  {
   "cell_type": "markdown",
   "metadata": {},
   "source": [
    "Ready for the bigboi, hopefully it will take less than 5 hours"
   ]
  },
  {
   "cell_type": "code",
   "execution_count": 11,
   "metadata": {},
   "outputs": [],
   "source": [
    "#consts for the bigboi\n",
    "n = 281903\n",
    "ed = 2312497\n",
    "b = 0.8"
   ]
  },
  {
   "cell_type": "code",
   "execution_count": 12,
   "metadata": {},
   "outputs": [
    {
     "name": "stdout",
     "output_type": "stream",
     "text": [
      "Part 1 time: 28.675953679\n"
     ]
    }
   ],
   "source": [
    "e = timer()\n",
    "l = dataset2csr(filename='/Users/markblumenau/Downloads/web-Stanford.txt', nodes = n, edges = ed)\n",
    "gg = makeG(l)\n",
    "v = np.random.random(n)\n",
    "v /= np.sqrt(v@v)\n",
    "i = 0\n",
    "vp = np.zeros(n)\n",
    "a = sparse.csr_matrix.nonzero(l)\n",
    "m = makeM(l, gg, b, a)\n",
    "print(\"Part 1 time:\", timer() - e)\n",
    "t = timer() - e"
   ]
  },
  {
   "cell_type": "code",
   "execution_count": 13,
   "metadata": {},
   "outputs": [
    {
     "name": "stdout",
     "output_type": "stream",
     "text": [
      "45 ITER NUM\n",
      "1 is the eigval for that vector\n",
      "89073 is VIP, Very Important Page\n",
      "[1.         0.9999826  0.99999997 ... 1.         0.99999982 0.99999997]\n",
      "Part 2 time: 61.39274669700001\n",
      "Total time: 90.068959817\n"
     ]
    }
   ],
   "source": [
    "q = timer()\n",
    "while np.linalg.norm(v-vp, 1) > 1.0E-4:\n",
    "    i += 1\n",
    "    vp = v\n",
    "    v = m @ vp  \n",
    "    v += vbuild(vp, b, l.shape[1])\n",
    "    v /= np.sqrt(v@v)\n",
    "print(i, \"ITER NUM\")\n",
    "print (\"1 is the eigval for that vector\")\n",
    "print(v.argmax()+1, \"is VIP, Very Important Page\")\n",
    "#check\n",
    "print((m @ v + vbuild(v, b, l.shape[1])) / v) \n",
    "#time\n",
    "print (\"Part 2 time:\", timer() - q)\n",
    "t += timer() - q\n",
    "print(\"Total time:\", t)"
   ]
  },
  {
   "cell_type": "markdown",
   "metadata": {},
   "source": [
    "Вероятно, можно добиться лучшего результата, но я уже не знаю как. Каждое домножение матрицы на вектор само по себе занимает 1.3 секунды, а как это делать быстрее numpy я не придумал (оно, судя по разным темам на форумах, на C++/Fortran)."
   ]
  }
 ],
 "metadata": {
  "kernelspec": {
   "display_name": "Python 3",
   "language": "python",
   "name": "python3"
  },
  "language_info": {
   "codemirror_mode": {
    "name": "ipython",
    "version": 3
   },
   "file_extension": ".py",
   "mimetype": "text/x-python",
   "name": "python",
   "nbconvert_exporter": "python",
   "pygments_lexer": "ipython3",
   "version": "3.8.3"
  }
 },
 "nbformat": 4,
 "nbformat_minor": 4
}
